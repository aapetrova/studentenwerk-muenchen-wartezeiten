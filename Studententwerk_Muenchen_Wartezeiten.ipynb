{
 "cells": [
  {
   "cell_type": "markdown",
   "metadata": {},
   "source": [
    "### Waiting periods for Studentenwerk München dorms after 2016\n",
    "The versions of the \"Wartezeiten, Mietpreise des Studentenwerks München\" document were gathered through the Wayback Machine."
   ]
  },
  {
   "cell_type": "code",
   "execution_count": 119,
   "metadata": {},
   "outputs": [],
   "source": [
    "import pandas as pd\n",
    "import tabula\n",
    "import re\n",
    "import numpy as np\n",
    "import os\n",
    "import plotly.graph_objects as go\n",
    "import datetime"
   ]
  },
  {
   "cell_type": "code",
   "execution_count": 120,
   "metadata": {},
   "outputs": [],
   "source": [
    "dirname = \"./wartezeiten_mietpreisliste\""
   ]
  },
  {
   "cell_type": "code",
   "execution_count": 121,
   "metadata": {},
   "outputs": [],
   "source": [
    "pdfs = [f for f in os.listdir(dirname) if os.path.isfile(os.path.join(dirname, f)) and str(f).endswith(\"pdf\")]"
   ]
  },
  {
   "cell_type": "code",
   "execution_count": 149,
   "metadata": {},
   "outputs": [],
   "source": [
    "raw_files = []\n",
    "for pdf in pdfs:\n",
    "    df = tabula.read_pdf(dirname + \"/\" + pdf, pages=\"all\", multiple_tables=True)\n",
    "    raw_files.append(df)"
   ]
  },
  {
   "cell_type": "code",
   "execution_count": 150,
   "metadata": {},
   "outputs": [],
   "source": [
    "aggregated = []\n",
    "for df in raw_files:\n",
    "    df_agg = pd.DataFrame()\n",
    "    for i in range(len(df)):\n",
    "        table = df[i]\n",
    "        # https://stackoverflow.com/questions/33098383/merge-multiple-column-values-into-one-column-in-python-pandas\n",
    "        table[\"cols\"] = table[table.columns[:]].apply(lambda x: ' '.join(x.dropna().astype(str)), axis=1)\n",
    "        table = table[[\"cols\"]]\n",
    "        df[i] = pd.DataFrame(table[table[\"cols\"].str.contains(\"Semester|Auf Anfrage\")][\"cols\"])\n",
    "        df_agg = df_agg.append(df[i], ignore_index=True)\n",
    "    aggregated.append(df_agg)"
   ]
  },
  {
   "cell_type": "code",
   "execution_count": 152,
   "metadata": {},
   "outputs": [],
   "source": [
    "all_dorms = [\"Agnes-/ Adelheidstraße\", \"Biedersteiner Straße\", \"Chiemgaustraße\", \"Dachauer Straße\",\n",
    "            \"Kaulbachstraße\", \"Kreittmayerstraße\", \"Lothstraße\", \"Notburgastraße\", \"Schwere-Reiter-Straße\",\n",
    "            \"Türkenstraße\", \"Heiglhofstr.\", \"Sauerbruchstraße\", \"Stiftsbogen\", \"Westendstraße\",\n",
    "            \"Studentenstadt\", \"Garching I \", \"Garching II \", \"Josef-Wirth-Weg\", \"Max-Bill-Straße\",\n",
    "            \"Olympisches Dorf\", \"Felsennelkenanger\", \"Heidemannstraße\", \"Moosacher Straße\", \"Oberschleißheim\",\n",
    "            \"Weihenstephan I \", \"Weihenstephan II \", \"Weihenstephan III \", \"Weihenstephan IV \",\n",
    "            \"Rosenheim I \", \"Rosenheim II \"]"
   ]
  },
  {
   "cell_type": "code",
   "execution_count": 153,
   "metadata": {},
   "outputs": [],
   "source": [
    "current_dorm = \"\"\n",
    "wait_dict = {}\n",
    "for j, df in enumerate(aggregated):\n",
    "    waiting_times = {}\n",
    "    #for i in range(len(df)):\n",
    "    for index, row in df.iterrows():\n",
    "        row = row[0]\n",
    "        # allow differentiating between numerals like I and II\n",
    "        row = row.replace(\"\\r\", \" \")\n",
    "        row = row.replace(\",\", \" \")\n",
    "        # exclude special apartment types\n",
    "        if \"behindertengerecht\" not in row and \"Alleinerziehend\" not in row:\n",
    "            mentioned_dorms = list(filter(lambda x: re.search(x, row) is not None, all_dorms))\n",
    "            if len(mentioned_dorms) != 0:\n",
    "                current_dorm = mentioned_dorms[0]\n",
    "            # semester range giben\n",
    "            match_multiple_semester = re.search(r\"(\\d)-(\\d) Semester\", row)\n",
    "            times = 0\n",
    "            if match_multiple_semester is not None:\n",
    "                times = (int(match_multiple_semester.group(1)) + int(match_multiple_semester.group(2)))/2\n",
    "            else:\n",
    "                # exact semester given\n",
    "                match_one_semester = re.search(r\"(\\d) Semester\", row)\n",
    "                if match_one_semester is not None:\n",
    "                    times = int(match_one_semester.group(1))\n",
    "            if times != 0:\n",
    "                if current_dorm in waiting_times:\n",
    "                    waiting_times[current_dorm] += [times]\n",
    "                else:\n",
    "                    waiting_times[current_dorm] = [times]\n",
    "    for key in waiting_times:\n",
    "        waiting_times[key] = np.mean(waiting_times[key])\n",
    "    date = pdfs[j].split(\".\")[0]\n",
    "    wait_dict[date] = waiting_times"
   ]
  },
  {
   "cell_type": "code",
   "execution_count": 154,
   "metadata": {},
   "outputs": [],
   "source": [
    "dorm_dict = {}\n",
    "for key in wait_dict.keys():\n",
    "    dorms = wait_dict[key]\n",
    "    for dorm in dorms:\n",
    "        times = round(wait_dict[key][dorm], 2)\n",
    "        if dorm not in dorm_dict:\n",
    "            dorm_dict[dorm] = [times]\n",
    "        else:\n",
    "            dorm_dict[dorm] += [times]"
   ]
  },
  {
   "cell_type": "code",
   "execution_count": 167,
   "metadata": {},
   "outputs": [],
   "source": [
    "dorm_dict = {}\n",
    "for key in wait_dict.keys():\n",
    "    for dorm in all_dorms:\n",
    "        if dorm in wait_dict[key].keys():\n",
    "            times = round(wait_dict[key][dorm], 2)\n",
    "        else:\n",
    "            times = np.nan\n",
    "        if dorm not in dorm_dict:\n",
    "            dorm_dict[dorm] = [times]\n",
    "        else:\n",
    "            dorm_dict[dorm] += [times]"
   ]
  },
  {
   "cell_type": "code",
   "execution_count": 171,
   "metadata": {},
   "outputs": [
    {
     "data": {
      "text/plain": [
       "{'Agnes-/ Adelheidstraße': 11,\n",
       " 'Biedersteiner Straße': 11,\n",
       " 'Chiemgaustraße': 11,\n",
       " 'Dachauer Straße': 10,\n",
       " 'Kaulbachstraße': 3,\n",
       " 'Kreittmayerstraße': 11,\n",
       " 'Lothstraße': 11,\n",
       " 'Notburgastraße': 11,\n",
       " 'Schwere-Reiter-Straße': 11,\n",
       " 'Türkenstraße': 11,\n",
       " 'Heiglhofstr.': 11,\n",
       " 'Sauerbruchstraße': 11,\n",
       " 'Stiftsbogen': 11,\n",
       " 'Westendstraße': 9,\n",
       " 'Studentenstadt': 11,\n",
       " 'Garching I ': 11,\n",
       " 'Garching II ': 11,\n",
       " 'Josef-Wirth-Weg': 11,\n",
       " 'Max-Bill-Straße': 9,\n",
       " 'Olympisches Dorf': 11,\n",
       " 'Felsennelkenanger': 11,\n",
       " 'Heidemannstraße': 11,\n",
       " 'Moosacher Straße': 1,\n",
       " 'Oberschleißheim': 11,\n",
       " 'Weihenstephan I ': 11,\n",
       " 'Weihenstephan II ': 10,\n",
       " 'Weihenstephan III ': 11,\n",
       " 'Weihenstephan IV ': 11,\n",
       " 'Rosenheim I ': 11,\n",
       " 'Rosenheim II ': 11}"
      ]
     },
     "execution_count": 171,
     "metadata": {},
     "output_type": "execute_result"
    }
   ],
   "source": [
    "dict((k, len([value for value in v if not np.isnan(value)])) for k,v in dorm_dict.items())"
   ]
  },
  {
   "cell_type": "markdown",
   "metadata": {},
   "source": [
    "Besides Kaulbachstraße and Moosacher Straße, which disappear from the PDFs around 2017, the list is generally complete."
   ]
  },
  {
   "cell_type": "code",
   "execution_count": 172,
   "metadata": {},
   "outputs": [],
   "source": [
    "x = [datetime.datetime.strptime(k, \"%Y-%m-%d\").date() for k in wait_dict.keys()]"
   ]
  },
  {
   "cell_type": "code",
   "execution_count": 176,
   "metadata": {},
   "outputs": [
    {
     "data": {
      "application/vnd.plotly.v1+json": {
       "config": {
        "plotlyServerURL": "https://plot.ly"
       },
       "data": [
        {
         "name": "Agnes-/ Adelheidstraße",
         "type": "scatter",
         "x": [
          "2016-03-27",
          "2016-08-13",
          "2016-11-30",
          "2017-06-13",
          "2017-08-09",
          "2017-10-13",
          "2018-01-27",
          "2018-03-28",
          "2018-06-19",
          "2019-03-09",
          "2020-04-01"
         ],
         "y": [
          3,
          3.38,
          3.38,
          3.38,
          3.38,
          3.8,
          3.8,
          3.8,
          3.8,
          3.7,
          3.83
         ]
        },
        {
         "name": "Biedersteiner Straße",
         "type": "scatter",
         "x": [
          "2016-03-27",
          "2016-08-13",
          "2016-11-30",
          "2017-06-13",
          "2017-08-09",
          "2017-10-13",
          "2018-01-27",
          "2018-03-28",
          "2018-06-19",
          "2019-03-09",
          "2020-04-01"
         ],
         "y": [
          3.25,
          3,
          3,
          3,
          3,
          3.5,
          3,
          3,
          3,
          3,
          3.5
         ]
        },
        {
         "name": "Chiemgaustraße",
         "type": "scatter",
         "x": [
          "2016-03-27",
          "2016-08-13",
          "2016-11-30",
          "2017-06-13",
          "2017-08-09",
          "2017-10-13",
          "2018-01-27",
          "2018-03-28",
          "2018-06-19",
          "2019-03-09",
          "2020-04-01"
         ],
         "y": [
          2,
          1.5,
          1.5,
          3,
          3,
          3,
          2,
          2,
          2.5,
          2.5,
          4
         ]
        },
        {
         "name": "Dachauer Straße",
         "type": "scatter",
         "x": [
          "2016-03-27",
          "2016-08-13",
          "2016-11-30",
          "2017-06-13",
          "2017-08-09",
          "2017-10-13",
          "2018-01-27",
          "2018-03-28",
          "2018-06-19",
          "2019-03-09",
          "2020-04-01"
         ],
         "y": [
          3.5,
          3.5,
          3.5,
          3.5,
          3.5,
          3.5,
          3.5,
          3.5,
          3.5,
          3.5,
          null
         ]
        },
        {
         "name": "Kaulbachstraße",
         "type": "scatter",
         "x": [
          "2016-03-27",
          "2016-08-13",
          "2016-11-30",
          "2017-06-13",
          "2017-08-09",
          "2017-10-13",
          "2018-01-27",
          "2018-03-28",
          "2018-06-19",
          "2019-03-09",
          "2020-04-01"
         ],
         "y": [
          3,
          3.5,
          3.5,
          null,
          null,
          null,
          null,
          null,
          null,
          null,
          null
         ]
        },
        {
         "name": "Kreittmayerstraße",
         "type": "scatter",
         "x": [
          "2016-03-27",
          "2016-08-13",
          "2016-11-30",
          "2017-06-13",
          "2017-08-09",
          "2017-10-13",
          "2018-01-27",
          "2018-03-28",
          "2018-06-19",
          "2019-03-09",
          "2020-04-01"
         ],
         "y": [
          3,
          4,
          4,
          4,
          4,
          4,
          4,
          4,
          4,
          4,
          3.5
         ]
        },
        {
         "name": "Lothstraße",
         "type": "scatter",
         "x": [
          "2016-03-27",
          "2016-08-13",
          "2016-11-30",
          "2017-06-13",
          "2017-08-09",
          "2017-10-13",
          "2018-01-27",
          "2018-03-28",
          "2018-06-19",
          "2019-03-09",
          "2020-04-01"
         ],
         "y": [
          2,
          2.5,
          2.5,
          2,
          2,
          2.5,
          2.5,
          2.5,
          2.5,
          2.5,
          4
         ]
        },
        {
         "name": "Notburgastraße",
         "type": "scatter",
         "x": [
          "2016-03-27",
          "2016-08-13",
          "2016-11-30",
          "2017-06-13",
          "2017-08-09",
          "2017-10-13",
          "2018-01-27",
          "2018-03-28",
          "2018-06-19",
          "2019-03-09",
          "2020-04-01"
         ],
         "y": [
          1.5,
          1.5,
          1.5,
          1.75,
          1.75,
          1.75,
          1.75,
          1.75,
          1.75,
          2.5,
          3
         ]
        },
        {
         "name": "Schwere-Reiter-Straße",
         "type": "scatter",
         "x": [
          "2016-03-27",
          "2016-08-13",
          "2016-11-30",
          "2017-06-13",
          "2017-08-09",
          "2017-10-13",
          "2018-01-27",
          "2018-03-28",
          "2018-06-19",
          "2019-03-09",
          "2020-04-01"
         ],
         "y": [
          3,
          3,
          3,
          3,
          3,
          3.25,
          3.25,
          3.25,
          3.25,
          3.25,
          3.5
         ]
        },
        {
         "name": "Türkenstraße",
         "type": "scatter",
         "x": [
          "2016-03-27",
          "2016-08-13",
          "2016-11-30",
          "2017-06-13",
          "2017-08-09",
          "2017-10-13",
          "2018-01-27",
          "2018-03-28",
          "2018-06-19",
          "2019-03-09",
          "2020-04-01"
         ],
         "y": [
          4.5,
          4.5,
          4.5,
          4.5,
          4.5,
          4.33,
          4.33,
          4.33,
          4.33,
          4.5,
          5
         ]
        },
        {
         "name": "Heiglhofstr.",
         "type": "scatter",
         "x": [
          "2016-03-27",
          "2016-08-13",
          "2016-11-30",
          "2017-06-13",
          "2017-08-09",
          "2017-10-13",
          "2018-01-27",
          "2018-03-28",
          "2018-06-19",
          "2019-03-09",
          "2020-04-01"
         ],
         "y": [
          2,
          2,
          2,
          2.5,
          2.5,
          2.83,
          2.83,
          2.83,
          2.83,
          2.5,
          4
         ]
        },
        {
         "name": "Sauerbruchstraße",
         "type": "scatter",
         "x": [
          "2016-03-27",
          "2016-08-13",
          "2016-11-30",
          "2017-06-13",
          "2017-08-09",
          "2017-10-13",
          "2018-01-27",
          "2018-03-28",
          "2018-06-19",
          "2019-03-09",
          "2020-04-01"
         ],
         "y": [
          2,
          2,
          2,
          2.5,
          2.5,
          2.5,
          2.5,
          2.5,
          2.5,
          2.5,
          3
         ]
        },
        {
         "name": "Stiftsbogen",
         "type": "scatter",
         "x": [
          "2016-03-27",
          "2016-08-13",
          "2016-11-30",
          "2017-06-13",
          "2017-08-09",
          "2017-10-13",
          "2018-01-27",
          "2018-03-28",
          "2018-06-19",
          "2019-03-09",
          "2020-04-01"
         ],
         "y": [
          2,
          2,
          2,
          2.5,
          2.5,
          2.5,
          2.5,
          2.5,
          2.5,
          2.5,
          3.5
         ]
        },
        {
         "name": "Westendstraße",
         "type": "scatter",
         "x": [
          "2016-03-27",
          "2016-08-13",
          "2016-11-30",
          "2017-06-13",
          "2017-08-09",
          "2017-10-13",
          "2018-01-27",
          "2018-03-28",
          "2018-06-19",
          "2019-03-09",
          "2020-04-01"
         ],
         "y": [
          2,
          2.5,
          2.5,
          2.5,
          2.5,
          2.5,
          2.5,
          2.5,
          2.5,
          null,
          null
         ]
        },
        {
         "name": "Studentenstadt",
         "type": "scatter",
         "x": [
          "2016-03-27",
          "2016-08-13",
          "2016-11-30",
          "2017-06-13",
          "2017-08-09",
          "2017-10-13",
          "2018-01-27",
          "2018-03-28",
          "2018-06-19",
          "2019-03-09",
          "2020-04-01"
         ],
         "y": [
          2.75,
          2.75,
          2.75,
          2.75,
          2.75,
          3,
          3.17,
          3.17,
          3,
          3.12,
          3.62
         ]
        },
        {
         "name": "Garching I",
         "type": "scatter",
         "x": [
          "2016-03-27",
          "2016-08-13",
          "2016-11-30",
          "2017-06-13",
          "2017-08-09",
          "2017-10-13",
          "2018-01-27",
          "2018-03-28",
          "2018-06-19",
          "2019-03-09",
          "2020-04-01"
         ],
         "y": [
          2,
          2.5,
          2.5,
          2.5,
          2.5,
          2.5,
          2.5,
          2.5,
          2.5,
          2.5,
          3
         ]
        },
        {
         "name": "Garching II",
         "type": "scatter",
         "x": [
          "2016-03-27",
          "2016-08-13",
          "2016-11-30",
          "2017-06-13",
          "2017-08-09",
          "2017-10-13",
          "2018-01-27",
          "2018-03-28",
          "2018-06-19",
          "2019-03-09",
          "2020-04-01"
         ],
         "y": [
          2.25,
          2.25,
          2.75,
          3,
          3,
          3,
          3,
          3,
          3,
          3,
          4
         ]
        },
        {
         "name": "Josef-Wirth-Weg",
         "type": "scatter",
         "x": [
          "2016-03-27",
          "2016-08-13",
          "2016-11-30",
          "2017-06-13",
          "2017-08-09",
          "2017-10-13",
          "2018-01-27",
          "2018-03-28",
          "2018-06-19",
          "2019-03-09",
          "2020-04-01"
         ],
         "y": [
          2.5,
          2.5,
          2.5,
          2.5,
          2.5,
          3,
          3,
          3,
          3.25,
          3,
          3.5
         ]
        },
        {
         "name": "Max-Bill-Straße",
         "type": "scatter",
         "x": [
          "2016-03-27",
          "2016-08-13",
          "2016-11-30",
          "2017-06-13",
          "2017-08-09",
          "2017-10-13",
          "2018-01-27",
          "2018-03-28",
          "2018-06-19",
          "2019-03-09",
          "2020-04-01"
         ],
         "y": [
          3.5,
          3.5,
          3.5,
          3.5,
          3.5,
          3.5,
          3.5,
          3.5,
          3.5,
          null,
          null
         ]
        },
        {
         "name": "Olympisches Dorf",
         "type": "scatter",
         "x": [
          "2016-03-27",
          "2016-08-13",
          "2016-11-30",
          "2017-06-13",
          "2017-08-09",
          "2017-10-13",
          "2018-01-27",
          "2018-03-28",
          "2018-06-19",
          "2019-03-09",
          "2020-04-01"
         ],
         "y": [
          3.5,
          3.5,
          3.5,
          3.5,
          3.5,
          3.5,
          3.5,
          3.5,
          3.5,
          3.5,
          4
         ]
        },
        {
         "name": "Felsennelkenanger",
         "type": "scatter",
         "x": [
          "2016-03-27",
          "2016-08-13",
          "2016-11-30",
          "2017-06-13",
          "2017-08-09",
          "2017-10-13",
          "2018-01-27",
          "2018-03-28",
          "2018-06-19",
          "2019-03-09",
          "2020-04-01"
         ],
         "y": [
          2.5,
          2.5,
          2.5,
          2.5,
          2.5,
          2.5,
          2.5,
          2.5,
          2.5,
          2.5,
          3.33
         ]
        },
        {
         "name": "Heidemannstraße",
         "type": "scatter",
         "x": [
          "2016-03-27",
          "2016-08-13",
          "2016-11-30",
          "2017-06-13",
          "2017-08-09",
          "2017-10-13",
          "2018-01-27",
          "2018-03-28",
          "2018-06-19",
          "2019-03-09",
          "2020-04-01"
         ],
         "y": [
          3,
          3,
          3,
          3,
          3,
          3,
          3,
          3,
          3,
          3,
          3.33
         ]
        },
        {
         "name": "Moosacher Straße",
         "type": "scatter",
         "x": [
          "2016-03-27",
          "2016-08-13",
          "2016-11-30",
          "2017-06-13",
          "2017-08-09",
          "2017-10-13",
          "2018-01-27",
          "2018-03-28",
          "2018-06-19",
          "2019-03-09",
          "2020-04-01"
         ],
         "y": [
          2.5,
          null,
          null,
          null,
          null,
          null,
          null,
          null,
          null,
          null,
          null
         ]
        },
        {
         "name": "Oberschleißheim",
         "type": "scatter",
         "x": [
          "2016-03-27",
          "2016-08-13",
          "2016-11-30",
          "2017-06-13",
          "2017-08-09",
          "2017-10-13",
          "2018-01-27",
          "2018-03-28",
          "2018-06-19",
          "2019-03-09",
          "2020-04-01"
         ],
         "y": [
          2,
          2.5,
          2.75,
          3,
          3,
          3,
          3,
          3,
          3,
          3,
          3
         ]
        },
        {
         "name": "Weihenstephan I",
         "type": "scatter",
         "x": [
          "2016-03-27",
          "2016-08-13",
          "2016-11-30",
          "2017-06-13",
          "2017-08-09",
          "2017-10-13",
          "2018-01-27",
          "2018-03-28",
          "2018-06-19",
          "2019-03-09",
          "2020-04-01"
         ],
         "y": [
          1,
          1,
          1,
          1,
          1,
          1,
          1,
          1,
          1,
          1,
          1
         ]
        },
        {
         "name": "Weihenstephan II",
         "type": "scatter",
         "x": [
          "2016-03-27",
          "2016-08-13",
          "2016-11-30",
          "2017-06-13",
          "2017-08-09",
          "2017-10-13",
          "2018-01-27",
          "2018-03-28",
          "2018-06-19",
          "2019-03-09",
          "2020-04-01"
         ],
         "y": [
          1.25,
          1.5,
          1.25,
          1,
          1,
          1,
          1,
          1,
          1.5,
          1.5,
          null
         ]
        },
        {
         "name": "Weihenstephan III",
         "type": "scatter",
         "x": [
          "2016-03-27",
          "2016-08-13",
          "2016-11-30",
          "2017-06-13",
          "2017-08-09",
          "2017-10-13",
          "2018-01-27",
          "2018-03-28",
          "2018-06-19",
          "2019-03-09",
          "2020-04-01"
         ],
         "y": [
          1.25,
          1.5,
          1.25,
          1,
          1,
          1,
          1,
          1,
          1.5,
          1.5,
          2.33
         ]
        },
        {
         "name": "Weihenstephan IV",
         "type": "scatter",
         "x": [
          "2016-03-27",
          "2016-08-13",
          "2016-11-30",
          "2017-06-13",
          "2017-08-09",
          "2017-10-13",
          "2018-01-27",
          "2018-03-28",
          "2018-06-19",
          "2019-03-09",
          "2020-04-01"
         ],
         "y": [
          1,
          1,
          1,
          1,
          1,
          1,
          1,
          1,
          1.75,
          1.75,
          2.5
         ]
        },
        {
         "name": "Rosenheim I",
         "type": "scatter",
         "x": [
          "2016-03-27",
          "2016-08-13",
          "2016-11-30",
          "2017-06-13",
          "2017-08-09",
          "2017-10-13",
          "2018-01-27",
          "2018-03-28",
          "2018-06-19",
          "2019-03-09",
          "2020-04-01"
         ],
         "y": [
          1.5,
          1.75,
          1.75,
          1.75,
          1.75,
          1.75,
          1.75,
          1.75,
          1.75,
          1.75,
          2
         ]
        },
        {
         "name": "Rosenheim II",
         "type": "scatter",
         "x": [
          "2016-03-27",
          "2016-08-13",
          "2016-11-30",
          "2017-06-13",
          "2017-08-09",
          "2017-10-13",
          "2018-01-27",
          "2018-03-28",
          "2018-06-19",
          "2019-03-09",
          "2020-04-01"
         ],
         "y": [
          1.25,
          1.25,
          1.25,
          1.25,
          1.25,
          2,
          1.25,
          1.25,
          1.25,
          1.25,
          1.67
         ]
        }
       ],
       "layout": {
        "autosize": true,
        "template": {
         "data": {
          "bar": [
           {
            "error_x": {
             "color": "#2a3f5f"
            },
            "error_y": {
             "color": "#2a3f5f"
            },
            "marker": {
             "line": {
              "color": "#E5ECF6",
              "width": 0.5
             }
            },
            "type": "bar"
           }
          ],
          "barpolar": [
           {
            "marker": {
             "line": {
              "color": "#E5ECF6",
              "width": 0.5
             }
            },
            "type": "barpolar"
           }
          ],
          "carpet": [
           {
            "aaxis": {
             "endlinecolor": "#2a3f5f",
             "gridcolor": "white",
             "linecolor": "white",
             "minorgridcolor": "white",
             "startlinecolor": "#2a3f5f"
            },
            "baxis": {
             "endlinecolor": "#2a3f5f",
             "gridcolor": "white",
             "linecolor": "white",
             "minorgridcolor": "white",
             "startlinecolor": "#2a3f5f"
            },
            "type": "carpet"
           }
          ],
          "choropleth": [
           {
            "colorbar": {
             "outlinewidth": 0,
             "ticks": ""
            },
            "type": "choropleth"
           }
          ],
          "contour": [
           {
            "colorbar": {
             "outlinewidth": 0,
             "ticks": ""
            },
            "colorscale": [
             [
              0,
              "#0d0887"
             ],
             [
              0.1111111111111111,
              "#46039f"
             ],
             [
              0.2222222222222222,
              "#7201a8"
             ],
             [
              0.3333333333333333,
              "#9c179e"
             ],
             [
              0.4444444444444444,
              "#bd3786"
             ],
             [
              0.5555555555555556,
              "#d8576b"
             ],
             [
              0.6666666666666666,
              "#ed7953"
             ],
             [
              0.7777777777777778,
              "#fb9f3a"
             ],
             [
              0.8888888888888888,
              "#fdca26"
             ],
             [
              1,
              "#f0f921"
             ]
            ],
            "type": "contour"
           }
          ],
          "contourcarpet": [
           {
            "colorbar": {
             "outlinewidth": 0,
             "ticks": ""
            },
            "type": "contourcarpet"
           }
          ],
          "heatmap": [
           {
            "colorbar": {
             "outlinewidth": 0,
             "ticks": ""
            },
            "colorscale": [
             [
              0,
              "#0d0887"
             ],
             [
              0.1111111111111111,
              "#46039f"
             ],
             [
              0.2222222222222222,
              "#7201a8"
             ],
             [
              0.3333333333333333,
              "#9c179e"
             ],
             [
              0.4444444444444444,
              "#bd3786"
             ],
             [
              0.5555555555555556,
              "#d8576b"
             ],
             [
              0.6666666666666666,
              "#ed7953"
             ],
             [
              0.7777777777777778,
              "#fb9f3a"
             ],
             [
              0.8888888888888888,
              "#fdca26"
             ],
             [
              1,
              "#f0f921"
             ]
            ],
            "type": "heatmap"
           }
          ],
          "heatmapgl": [
           {
            "colorbar": {
             "outlinewidth": 0,
             "ticks": ""
            },
            "colorscale": [
             [
              0,
              "#0d0887"
             ],
             [
              0.1111111111111111,
              "#46039f"
             ],
             [
              0.2222222222222222,
              "#7201a8"
             ],
             [
              0.3333333333333333,
              "#9c179e"
             ],
             [
              0.4444444444444444,
              "#bd3786"
             ],
             [
              0.5555555555555556,
              "#d8576b"
             ],
             [
              0.6666666666666666,
              "#ed7953"
             ],
             [
              0.7777777777777778,
              "#fb9f3a"
             ],
             [
              0.8888888888888888,
              "#fdca26"
             ],
             [
              1,
              "#f0f921"
             ]
            ],
            "type": "heatmapgl"
           }
          ],
          "histogram": [
           {
            "marker": {
             "colorbar": {
              "outlinewidth": 0,
              "ticks": ""
             }
            },
            "type": "histogram"
           }
          ],
          "histogram2d": [
           {
            "colorbar": {
             "outlinewidth": 0,
             "ticks": ""
            },
            "colorscale": [
             [
              0,
              "#0d0887"
             ],
             [
              0.1111111111111111,
              "#46039f"
             ],
             [
              0.2222222222222222,
              "#7201a8"
             ],
             [
              0.3333333333333333,
              "#9c179e"
             ],
             [
              0.4444444444444444,
              "#bd3786"
             ],
             [
              0.5555555555555556,
              "#d8576b"
             ],
             [
              0.6666666666666666,
              "#ed7953"
             ],
             [
              0.7777777777777778,
              "#fb9f3a"
             ],
             [
              0.8888888888888888,
              "#fdca26"
             ],
             [
              1,
              "#f0f921"
             ]
            ],
            "type": "histogram2d"
           }
          ],
          "histogram2dcontour": [
           {
            "colorbar": {
             "outlinewidth": 0,
             "ticks": ""
            },
            "colorscale": [
             [
              0,
              "#0d0887"
             ],
             [
              0.1111111111111111,
              "#46039f"
             ],
             [
              0.2222222222222222,
              "#7201a8"
             ],
             [
              0.3333333333333333,
              "#9c179e"
             ],
             [
              0.4444444444444444,
              "#bd3786"
             ],
             [
              0.5555555555555556,
              "#d8576b"
             ],
             [
              0.6666666666666666,
              "#ed7953"
             ],
             [
              0.7777777777777778,
              "#fb9f3a"
             ],
             [
              0.8888888888888888,
              "#fdca26"
             ],
             [
              1,
              "#f0f921"
             ]
            ],
            "type": "histogram2dcontour"
           }
          ],
          "mesh3d": [
           {
            "colorbar": {
             "outlinewidth": 0,
             "ticks": ""
            },
            "type": "mesh3d"
           }
          ],
          "parcoords": [
           {
            "line": {
             "colorbar": {
              "outlinewidth": 0,
              "ticks": ""
             }
            },
            "type": "parcoords"
           }
          ],
          "pie": [
           {
            "automargin": true,
            "type": "pie"
           }
          ],
          "scatter": [
           {
            "marker": {
             "colorbar": {
              "outlinewidth": 0,
              "ticks": ""
             }
            },
            "type": "scatter"
           }
          ],
          "scatter3d": [
           {
            "line": {
             "colorbar": {
              "outlinewidth": 0,
              "ticks": ""
             }
            },
            "marker": {
             "colorbar": {
              "outlinewidth": 0,
              "ticks": ""
             }
            },
            "type": "scatter3d"
           }
          ],
          "scattercarpet": [
           {
            "marker": {
             "colorbar": {
              "outlinewidth": 0,
              "ticks": ""
             }
            },
            "type": "scattercarpet"
           }
          ],
          "scattergeo": [
           {
            "marker": {
             "colorbar": {
              "outlinewidth": 0,
              "ticks": ""
             }
            },
            "type": "scattergeo"
           }
          ],
          "scattergl": [
           {
            "marker": {
             "colorbar": {
              "outlinewidth": 0,
              "ticks": ""
             }
            },
            "type": "scattergl"
           }
          ],
          "scattermapbox": [
           {
            "marker": {
             "colorbar": {
              "outlinewidth": 0,
              "ticks": ""
             }
            },
            "type": "scattermapbox"
           }
          ],
          "scatterpolar": [
           {
            "marker": {
             "colorbar": {
              "outlinewidth": 0,
              "ticks": ""
             }
            },
            "type": "scatterpolar"
           }
          ],
          "scatterpolargl": [
           {
            "marker": {
             "colorbar": {
              "outlinewidth": 0,
              "ticks": ""
             }
            },
            "type": "scatterpolargl"
           }
          ],
          "scatterternary": [
           {
            "marker": {
             "colorbar": {
              "outlinewidth": 0,
              "ticks": ""
             }
            },
            "type": "scatterternary"
           }
          ],
          "surface": [
           {
            "colorbar": {
             "outlinewidth": 0,
             "ticks": ""
            },
            "colorscale": [
             [
              0,
              "#0d0887"
             ],
             [
              0.1111111111111111,
              "#46039f"
             ],
             [
              0.2222222222222222,
              "#7201a8"
             ],
             [
              0.3333333333333333,
              "#9c179e"
             ],
             [
              0.4444444444444444,
              "#bd3786"
             ],
             [
              0.5555555555555556,
              "#d8576b"
             ],
             [
              0.6666666666666666,
              "#ed7953"
             ],
             [
              0.7777777777777778,
              "#fb9f3a"
             ],
             [
              0.8888888888888888,
              "#fdca26"
             ],
             [
              1,
              "#f0f921"
             ]
            ],
            "type": "surface"
           }
          ],
          "table": [
           {
            "cells": {
             "fill": {
              "color": "#EBF0F8"
             },
             "line": {
              "color": "white"
             }
            },
            "header": {
             "fill": {
              "color": "#C8D4E3"
             },
             "line": {
              "color": "white"
             }
            },
            "type": "table"
           }
          ]
         },
         "layout": {
          "annotationdefaults": {
           "arrowcolor": "#2a3f5f",
           "arrowhead": 0,
           "arrowwidth": 1
          },
          "coloraxis": {
           "colorbar": {
            "outlinewidth": 0,
            "ticks": ""
           }
          },
          "colorscale": {
           "diverging": [
            [
             0,
             "#8e0152"
            ],
            [
             0.1,
             "#c51b7d"
            ],
            [
             0.2,
             "#de77ae"
            ],
            [
             0.3,
             "#f1b6da"
            ],
            [
             0.4,
             "#fde0ef"
            ],
            [
             0.5,
             "#f7f7f7"
            ],
            [
             0.6,
             "#e6f5d0"
            ],
            [
             0.7,
             "#b8e186"
            ],
            [
             0.8,
             "#7fbc41"
            ],
            [
             0.9,
             "#4d9221"
            ],
            [
             1,
             "#276419"
            ]
           ],
           "sequential": [
            [
             0,
             "#0d0887"
            ],
            [
             0.1111111111111111,
             "#46039f"
            ],
            [
             0.2222222222222222,
             "#7201a8"
            ],
            [
             0.3333333333333333,
             "#9c179e"
            ],
            [
             0.4444444444444444,
             "#bd3786"
            ],
            [
             0.5555555555555556,
             "#d8576b"
            ],
            [
             0.6666666666666666,
             "#ed7953"
            ],
            [
             0.7777777777777778,
             "#fb9f3a"
            ],
            [
             0.8888888888888888,
             "#fdca26"
            ],
            [
             1,
             "#f0f921"
            ]
           ],
           "sequentialminus": [
            [
             0,
             "#0d0887"
            ],
            [
             0.1111111111111111,
             "#46039f"
            ],
            [
             0.2222222222222222,
             "#7201a8"
            ],
            [
             0.3333333333333333,
             "#9c179e"
            ],
            [
             0.4444444444444444,
             "#bd3786"
            ],
            [
             0.5555555555555556,
             "#d8576b"
            ],
            [
             0.6666666666666666,
             "#ed7953"
            ],
            [
             0.7777777777777778,
             "#fb9f3a"
            ],
            [
             0.8888888888888888,
             "#fdca26"
            ],
            [
             1,
             "#f0f921"
            ]
           ]
          },
          "colorway": [
           "#636efa",
           "#EF553B",
           "#00cc96",
           "#ab63fa",
           "#FFA15A",
           "#19d3f3",
           "#FF6692",
           "#B6E880",
           "#FF97FF",
           "#FECB52"
          ],
          "font": {
           "color": "#2a3f5f"
          },
          "geo": {
           "bgcolor": "white",
           "lakecolor": "white",
           "landcolor": "#E5ECF6",
           "showlakes": true,
           "showland": true,
           "subunitcolor": "white"
          },
          "hoverlabel": {
           "align": "left"
          },
          "hovermode": "closest",
          "mapbox": {
           "style": "light"
          },
          "paper_bgcolor": "white",
          "plot_bgcolor": "#E5ECF6",
          "polar": {
           "angularaxis": {
            "gridcolor": "white",
            "linecolor": "white",
            "ticks": ""
           },
           "bgcolor": "#E5ECF6",
           "radialaxis": {
            "gridcolor": "white",
            "linecolor": "white",
            "ticks": ""
           }
          },
          "scene": {
           "xaxis": {
            "backgroundcolor": "#E5ECF6",
            "gridcolor": "white",
            "gridwidth": 2,
            "linecolor": "white",
            "showbackground": true,
            "ticks": "",
            "zerolinecolor": "white"
           },
           "yaxis": {
            "backgroundcolor": "#E5ECF6",
            "gridcolor": "white",
            "gridwidth": 2,
            "linecolor": "white",
            "showbackground": true,
            "ticks": "",
            "zerolinecolor": "white"
           },
           "zaxis": {
            "backgroundcolor": "#E5ECF6",
            "gridcolor": "white",
            "gridwidth": 2,
            "linecolor": "white",
            "showbackground": true,
            "ticks": "",
            "zerolinecolor": "white"
           }
          },
          "shapedefaults": {
           "line": {
            "color": "#2a3f5f"
           }
          },
          "ternary": {
           "aaxis": {
            "gridcolor": "white",
            "linecolor": "white",
            "ticks": ""
           },
           "baxis": {
            "gridcolor": "white",
            "linecolor": "white",
            "ticks": ""
           },
           "bgcolor": "#E5ECF6",
           "caxis": {
            "gridcolor": "white",
            "linecolor": "white",
            "ticks": ""
           }
          },
          "title": {
           "x": 0.05
          },
          "xaxis": {
           "automargin": true,
           "gridcolor": "white",
           "linecolor": "white",
           "ticks": "",
           "title": {
            "standoff": 15
           },
           "zerolinecolor": "white",
           "zerolinewidth": 2
          },
          "yaxis": {
           "automargin": true,
           "gridcolor": "white",
           "linecolor": "white",
           "ticks": "",
           "title": {
            "standoff": 15
           },
           "zerolinecolor": "white",
           "zerolinewidth": 2
          }
         }
        },
        "title": {
         "text": "Waiting periods for each Studentenwerk München dorm (2016-present)"
        },
        "xaxis": {
         "autorange": true,
         "range": [
          "2015-12-23 21:48:49.1925",
          "2020-07-04 02:11:10.8075"
         ],
         "title": {
          "text": "Date"
         },
         "type": "date"
        },
        "yaxis": {
         "autorange": true,
         "range": [
          0.7070063694267517,
          5.292993630573249
         ],
         "title": {
          "text": "Waiting period (semesters)"
         },
         "type": "linear"
        }
       }
      },
      "image/png": "[encoded data removed]",
      "text/html": [
       "<div>\n",
       "        \n",
       "        \n",
       "            <div id=\"aa10835e-4105-4297-9226-e328cd5ba763\" class=\"plotly-graph-div\" style=\"height:525px; width:100%;\"></div>\n",
       "            <script type=\"text/javascript\">\n",
       "                require([\"plotly\"], function(Plotly) {\n",
       "                    window.PLOTLYENV=window.PLOTLYENV || {};\n",
       "                    \n",
       "                if (document.getElementById(\"aa10835e-4105-4297-9226-e328cd5ba763\")) {\n",
       "                    Plotly.newPlot(\n",
       "                        'aa10835e-4105-4297-9226-e328cd5ba763',\n",
       "                        [{\"name\": \"Agnes-/ Adelheidstra\\u00dfe\", \"type\": \"scatter\", \"x\": [\"2016-03-27\", \"2016-08-13\", \"2016-11-30\", \"2017-06-13\", \"2017-08-09\", \"2017-10-13\", \"2018-01-27\", \"2018-03-28\", \"2018-06-19\", \"2019-03-09\", \"2020-04-01\"], \"y\": [3.0, 3.38, 3.38, 3.38, 3.38, 3.8, 3.8, 3.8, 3.8, 3.7, 3.83]}, {\"name\": \"Biedersteiner Stra\\u00dfe\", \"type\": \"scatter\", \"x\": [\"2016-03-27\", \"2016-08-13\", \"2016-11-30\", \"2017-06-13\", \"2017-08-09\", \"2017-10-13\", \"2018-01-27\", \"2018-03-28\", \"2018-06-19\", \"2019-03-09\", \"2020-04-01\"], \"y\": [3.25, 3.0, 3.0, 3.0, 3.0, 3.5, 3.0, 3.0, 3.0, 3.0, 3.5]}, {\"name\": \"Chiemgaustra\\u00dfe\", \"type\": \"scatter\", \"x\": [\"2016-03-27\", \"2016-08-13\", \"2016-11-30\", \"2017-06-13\", \"2017-08-09\", \"2017-10-13\", \"2018-01-27\", \"2018-03-28\", \"2018-06-19\", \"2019-03-09\", \"2020-04-01\"], \"y\": [2.0, 1.5, 1.5, 3.0, 3.0, 3.0, 2.0, 2.0, 2.5, 2.5, 4.0]}, {\"name\": \"Dachauer Stra\\u00dfe\", \"type\": \"scatter\", \"x\": [\"2016-03-27\", \"2016-08-13\", \"2016-11-30\", \"2017-06-13\", \"2017-08-09\", \"2017-10-13\", \"2018-01-27\", \"2018-03-28\", \"2018-06-19\", \"2019-03-09\", \"2020-04-01\"], \"y\": [3.5, 3.5, 3.5, 3.5, 3.5, 3.5, 3.5, 3.5, 3.5, 3.5, null]}, {\"name\": \"Kaulbachstra\\u00dfe\", \"type\": \"scatter\", \"x\": [\"2016-03-27\", \"2016-08-13\", \"2016-11-30\", \"2017-06-13\", \"2017-08-09\", \"2017-10-13\", \"2018-01-27\", \"2018-03-28\", \"2018-06-19\", \"2019-03-09\", \"2020-04-01\"], \"y\": [3.0, 3.5, 3.5, null, null, null, null, null, null, null, null]}, {\"name\": \"Kreittmayerstra\\u00dfe\", \"type\": \"scatter\", \"x\": [\"2016-03-27\", \"2016-08-13\", \"2016-11-30\", \"2017-06-13\", \"2017-08-09\", \"2017-10-13\", \"2018-01-27\", \"2018-03-28\", \"2018-06-19\", \"2019-03-09\", \"2020-04-01\"], \"y\": [3.0, 4.0, 4.0, 4.0, 4.0, 4.0, 4.0, 4.0, 4.0, 4.0, 3.5]}, {\"name\": \"Lothstra\\u00dfe\", \"type\": \"scatter\", \"x\": [\"2016-03-27\", \"2016-08-13\", \"2016-11-30\", \"2017-06-13\", \"2017-08-09\", \"2017-10-13\", \"2018-01-27\", \"2018-03-28\", \"2018-06-19\", \"2019-03-09\", \"2020-04-01\"], \"y\": [2.0, 2.5, 2.5, 2.0, 2.0, 2.5, 2.5, 2.5, 2.5, 2.5, 4.0]}, {\"name\": \"Notburgastra\\u00dfe\", \"type\": \"scatter\", \"x\": [\"2016-03-27\", \"2016-08-13\", \"2016-11-30\", \"2017-06-13\", \"2017-08-09\", \"2017-10-13\", \"2018-01-27\", \"2018-03-28\", \"2018-06-19\", \"2019-03-09\", \"2020-04-01\"], \"y\": [1.5, 1.5, 1.5, 1.75, 1.75, 1.75, 1.75, 1.75, 1.75, 2.5, 3.0]}, {\"name\": \"Schwere-Reiter-Stra\\u00dfe\", \"type\": \"scatter\", \"x\": [\"2016-03-27\", \"2016-08-13\", \"2016-11-30\", \"2017-06-13\", \"2017-08-09\", \"2017-10-13\", \"2018-01-27\", \"2018-03-28\", \"2018-06-19\", \"2019-03-09\", \"2020-04-01\"], \"y\": [3.0, 3.0, 3.0, 3.0, 3.0, 3.25, 3.25, 3.25, 3.25, 3.25, 3.5]}, {\"name\": \"T\\u00fcrkenstra\\u00dfe\", \"type\": \"scatter\", \"x\": [\"2016-03-27\", \"2016-08-13\", \"2016-11-30\", \"2017-06-13\", \"2017-08-09\", \"2017-10-13\", \"2018-01-27\", \"2018-03-28\", \"2018-06-19\", \"2019-03-09\", \"2020-04-01\"], \"y\": [4.5, 4.5, 4.5, 4.5, 4.5, 4.33, 4.33, 4.33, 4.33, 4.5, 5.0]}, {\"name\": \"Heiglhofstr.\", \"type\": \"scatter\", \"x\": [\"2016-03-27\", \"2016-08-13\", \"2016-11-30\", \"2017-06-13\", \"2017-08-09\", \"2017-10-13\", \"2018-01-27\", \"2018-03-28\", \"2018-06-19\", \"2019-03-09\", \"2020-04-01\"], \"y\": [2.0, 2.0, 2.0, 2.5, 2.5, 2.83, 2.83, 2.83, 2.83, 2.5, 4.0]}, {\"name\": \"Sauerbruchstra\\u00dfe\", \"type\": \"scatter\", \"x\": [\"2016-03-27\", \"2016-08-13\", \"2016-11-30\", \"2017-06-13\", \"2017-08-09\", \"2017-10-13\", \"2018-01-27\", \"2018-03-28\", \"2018-06-19\", \"2019-03-09\", \"2020-04-01\"], \"y\": [2.0, 2.0, 2.0, 2.5, 2.5, 2.5, 2.5, 2.5, 2.5, 2.5, 3.0]}, {\"name\": \"Stiftsbogen\", \"type\": \"scatter\", \"x\": [\"2016-03-27\", \"2016-08-13\", \"2016-11-30\", \"2017-06-13\", \"2017-08-09\", \"2017-10-13\", \"2018-01-27\", \"2018-03-28\", \"2018-06-19\", \"2019-03-09\", \"2020-04-01\"], \"y\": [2.0, 2.0, 2.0, 2.5, 2.5, 2.5, 2.5, 2.5, 2.5, 2.5, 3.5]}, {\"name\": \"Westendstra\\u00dfe\", \"type\": \"scatter\", \"x\": [\"2016-03-27\", \"2016-08-13\", \"2016-11-30\", \"2017-06-13\", \"2017-08-09\", \"2017-10-13\", \"2018-01-27\", \"2018-03-28\", \"2018-06-19\", \"2019-03-09\", \"2020-04-01\"], \"y\": [2.0, 2.5, 2.5, 2.5, 2.5, 2.5, 2.5, 2.5, 2.5, null, null]}, {\"name\": \"Studentenstadt\", \"type\": \"scatter\", \"x\": [\"2016-03-27\", \"2016-08-13\", \"2016-11-30\", \"2017-06-13\", \"2017-08-09\", \"2017-10-13\", \"2018-01-27\", \"2018-03-28\", \"2018-06-19\", \"2019-03-09\", \"2020-04-01\"], \"y\": [2.75, 2.75, 2.75, 2.75, 2.75, 3.0, 3.17, 3.17, 3.0, 3.12, 3.62]}, {\"name\": \"Garching I\", \"type\": \"scatter\", \"x\": [\"2016-03-27\", \"2016-08-13\", \"2016-11-30\", \"2017-06-13\", \"2017-08-09\", \"2017-10-13\", \"2018-01-27\", \"2018-03-28\", \"2018-06-19\", \"2019-03-09\", \"2020-04-01\"], \"y\": [2.0, 2.5, 2.5, 2.5, 2.5, 2.5, 2.5, 2.5, 2.5, 2.5, 3.0]}, {\"name\": \"Garching II\", \"type\": \"scatter\", \"x\": [\"2016-03-27\", \"2016-08-13\", \"2016-11-30\", \"2017-06-13\", \"2017-08-09\", \"2017-10-13\", \"2018-01-27\", \"2018-03-28\", \"2018-06-19\", \"2019-03-09\", \"2020-04-01\"], \"y\": [2.25, 2.25, 2.75, 3.0, 3.0, 3.0, 3.0, 3.0, 3.0, 3.0, 4.0]}, {\"name\": \"Josef-Wirth-Weg\", \"type\": \"scatter\", \"x\": [\"2016-03-27\", \"2016-08-13\", \"2016-11-30\", \"2017-06-13\", \"2017-08-09\", \"2017-10-13\", \"2018-01-27\", \"2018-03-28\", \"2018-06-19\", \"2019-03-09\", \"2020-04-01\"], \"y\": [2.5, 2.5, 2.5, 2.5, 2.5, 3.0, 3.0, 3.0, 3.25, 3.0, 3.5]}, {\"name\": \"Max-Bill-Stra\\u00dfe\", \"type\": \"scatter\", \"x\": [\"2016-03-27\", \"2016-08-13\", \"2016-11-30\", \"2017-06-13\", \"2017-08-09\", \"2017-10-13\", \"2018-01-27\", \"2018-03-28\", \"2018-06-19\", \"2019-03-09\", \"2020-04-01\"], \"y\": [3.5, 3.5, 3.5, 3.5, 3.5, 3.5, 3.5, 3.5, 3.5, null, null]}, {\"name\": \"Olympisches Dorf\", \"type\": \"scatter\", \"x\": [\"2016-03-27\", \"2016-08-13\", \"2016-11-30\", \"2017-06-13\", \"2017-08-09\", \"2017-10-13\", \"2018-01-27\", \"2018-03-28\", \"2018-06-19\", \"2019-03-09\", \"2020-04-01\"], \"y\": [3.5, 3.5, 3.5, 3.5, 3.5, 3.5, 3.5, 3.5, 3.5, 3.5, 4.0]}, {\"name\": \"Felsennelkenanger\", \"type\": \"scatter\", \"x\": [\"2016-03-27\", \"2016-08-13\", \"2016-11-30\", \"2017-06-13\", \"2017-08-09\", \"2017-10-13\", \"2018-01-27\", \"2018-03-28\", \"2018-06-19\", \"2019-03-09\", \"2020-04-01\"], \"y\": [2.5, 2.5, 2.5, 2.5, 2.5, 2.5, 2.5, 2.5, 2.5, 2.5, 3.33]}, {\"name\": \"Heidemannstra\\u00dfe\", \"type\": \"scatter\", \"x\": [\"2016-03-27\", \"2016-08-13\", \"2016-11-30\", \"2017-06-13\", \"2017-08-09\", \"2017-10-13\", \"2018-01-27\", \"2018-03-28\", \"2018-06-19\", \"2019-03-09\", \"2020-04-01\"], \"y\": [3.0, 3.0, 3.0, 3.0, 3.0, 3.0, 3.0, 3.0, 3.0, 3.0, 3.33]}, {\"name\": \"Moosacher Stra\\u00dfe\", \"type\": \"scatter\", \"x\": [\"2016-03-27\", \"2016-08-13\", \"2016-11-30\", \"2017-06-13\", \"2017-08-09\", \"2017-10-13\", \"2018-01-27\", \"2018-03-28\", \"2018-06-19\", \"2019-03-09\", \"2020-04-01\"], \"y\": [2.5, null, null, null, null, null, null, null, null, null, null]}, {\"name\": \"Oberschlei\\u00dfheim\", \"type\": \"scatter\", \"x\": [\"2016-03-27\", \"2016-08-13\", \"2016-11-30\", \"2017-06-13\", \"2017-08-09\", \"2017-10-13\", \"2018-01-27\", \"2018-03-28\", \"2018-06-19\", \"2019-03-09\", \"2020-04-01\"], \"y\": [2.0, 2.5, 2.75, 3.0, 3.0, 3.0, 3.0, 3.0, 3.0, 3.0, 3.0]}, {\"name\": \"Weihenstephan I\", \"type\": \"scatter\", \"x\": [\"2016-03-27\", \"2016-08-13\", \"2016-11-30\", \"2017-06-13\", \"2017-08-09\", \"2017-10-13\", \"2018-01-27\", \"2018-03-28\", \"2018-06-19\", \"2019-03-09\", \"2020-04-01\"], \"y\": [1.0, 1.0, 1.0, 1.0, 1.0, 1.0, 1.0, 1.0, 1.0, 1.0, 1.0]}, {\"name\": \"Weihenstephan II\", \"type\": \"scatter\", \"x\": [\"2016-03-27\", \"2016-08-13\", \"2016-11-30\", \"2017-06-13\", \"2017-08-09\", \"2017-10-13\", \"2018-01-27\", \"2018-03-28\", \"2018-06-19\", \"2019-03-09\", \"2020-04-01\"], \"y\": [1.25, 1.5, 1.25, 1.0, 1.0, 1.0, 1.0, 1.0, 1.5, 1.5, null]}, {\"name\": \"Weihenstephan III\", \"type\": \"scatter\", \"x\": [\"2016-03-27\", \"2016-08-13\", \"2016-11-30\", \"2017-06-13\", \"2017-08-09\", \"2017-10-13\", \"2018-01-27\", \"2018-03-28\", \"2018-06-19\", \"2019-03-09\", \"2020-04-01\"], \"y\": [1.25, 1.5, 1.25, 1.0, 1.0, 1.0, 1.0, 1.0, 1.5, 1.5, 2.33]}, {\"name\": \"Weihenstephan IV\", \"type\": \"scatter\", \"x\": [\"2016-03-27\", \"2016-08-13\", \"2016-11-30\", \"2017-06-13\", \"2017-08-09\", \"2017-10-13\", \"2018-01-27\", \"2018-03-28\", \"2018-06-19\", \"2019-03-09\", \"2020-04-01\"], \"y\": [1.0, 1.0, 1.0, 1.0, 1.0, 1.0, 1.0, 1.0, 1.75, 1.75, 2.5]}, {\"name\": \"Rosenheim I\", \"type\": \"scatter\", \"x\": [\"2016-03-27\", \"2016-08-13\", \"2016-11-30\", \"2017-06-13\", \"2017-08-09\", \"2017-10-13\", \"2018-01-27\", \"2018-03-28\", \"2018-06-19\", \"2019-03-09\", \"2020-04-01\"], \"y\": [1.5, 1.75, 1.75, 1.75, 1.75, 1.75, 1.75, 1.75, 1.75, 1.75, 2.0]}, {\"name\": \"Rosenheim II\", \"type\": \"scatter\", \"x\": [\"2016-03-27\", \"2016-08-13\", \"2016-11-30\", \"2017-06-13\", \"2017-08-09\", \"2017-10-13\", \"2018-01-27\", \"2018-03-28\", \"2018-06-19\", \"2019-03-09\", \"2020-04-01\"], \"y\": [1.25, 1.25, 1.25, 1.25, 1.25, 2.0, 1.25, 1.25, 1.25, 1.25, 1.67]}],\n",
       "                        {\"template\": {\"data\": {\"bar\": [{\"error_x\": {\"color\": \"#2a3f5f\"}, \"error_y\": {\"color\": \"#2a3f5f\"}, \"marker\": {\"line\": {\"color\": \"#E5ECF6\", \"width\": 0.5}}, \"type\": \"bar\"}], \"barpolar\": [{\"marker\": {\"line\": {\"color\": \"#E5ECF6\", \"width\": 0.5}}, \"type\": \"barpolar\"}], \"carpet\": [{\"aaxis\": {\"endlinecolor\": \"#2a3f5f\", \"gridcolor\": \"white\", \"linecolor\": \"white\", \"minorgridcolor\": \"white\", \"startlinecolor\": \"#2a3f5f\"}, \"baxis\": {\"endlinecolor\": \"#2a3f5f\", \"gridcolor\": \"white\", \"linecolor\": \"white\", \"minorgridcolor\": \"white\", \"startlinecolor\": \"#2a3f5f\"}, \"type\": \"carpet\"}], \"choropleth\": [{\"colorbar\": {\"outlinewidth\": 0, \"ticks\": \"\"}, \"type\": \"choropleth\"}], \"contour\": [{\"colorbar\": {\"outlinewidth\": 0, \"ticks\": \"\"}, \"colorscale\": [[0.0, \"#0d0887\"], [0.1111111111111111, \"#46039f\"], [0.2222222222222222, \"#7201a8\"], [0.3333333333333333, \"#9c179e\"], [0.4444444444444444, \"#bd3786\"], [0.5555555555555556, \"#d8576b\"], [0.6666666666666666, \"#ed7953\"], [0.7777777777777778, \"#fb9f3a\"], [0.8888888888888888, \"#fdca26\"], [1.0, \"#f0f921\"]], \"type\": \"contour\"}], \"contourcarpet\": [{\"colorbar\": {\"outlinewidth\": 0, \"ticks\": \"\"}, \"type\": \"contourcarpet\"}], \"heatmap\": [{\"colorbar\": {\"outlinewidth\": 0, \"ticks\": \"\"}, \"colorscale\": [[0.0, \"#0d0887\"], [0.1111111111111111, \"#46039f\"], [0.2222222222222222, \"#7201a8\"], [0.3333333333333333, \"#9c179e\"], [0.4444444444444444, \"#bd3786\"], [0.5555555555555556, \"#d8576b\"], [0.6666666666666666, \"#ed7953\"], [0.7777777777777778, \"#fb9f3a\"], [0.8888888888888888, \"#fdca26\"], [1.0, \"#f0f921\"]], \"type\": \"heatmap\"}], \"heatmapgl\": [{\"colorbar\": {\"outlinewidth\": 0, \"ticks\": \"\"}, \"colorscale\": [[0.0, \"#0d0887\"], [0.1111111111111111, \"#46039f\"], [0.2222222222222222, \"#7201a8\"], [0.3333333333333333, \"#9c179e\"], [0.4444444444444444, \"#bd3786\"], [0.5555555555555556, \"#d8576b\"], [0.6666666666666666, \"#ed7953\"], [0.7777777777777778, \"#fb9f3a\"], [0.8888888888888888, \"#fdca26\"], [1.0, \"#f0f921\"]], \"type\": \"heatmapgl\"}], \"histogram\": [{\"marker\": {\"colorbar\": {\"outlinewidth\": 0, \"ticks\": \"\"}}, \"type\": \"histogram\"}], \"histogram2d\": [{\"colorbar\": {\"outlinewidth\": 0, \"ticks\": \"\"}, \"colorscale\": [[0.0, \"#0d0887\"], [0.1111111111111111, \"#46039f\"], [0.2222222222222222, \"#7201a8\"], [0.3333333333333333, \"#9c179e\"], [0.4444444444444444, \"#bd3786\"], [0.5555555555555556, \"#d8576b\"], [0.6666666666666666, \"#ed7953\"], [0.7777777777777778, \"#fb9f3a\"], [0.8888888888888888, \"#fdca26\"], [1.0, \"#f0f921\"]], \"type\": \"histogram2d\"}], \"histogram2dcontour\": [{\"colorbar\": {\"outlinewidth\": 0, \"ticks\": \"\"}, \"colorscale\": [[0.0, \"#0d0887\"], [0.1111111111111111, \"#46039f\"], [0.2222222222222222, \"#7201a8\"], [0.3333333333333333, \"#9c179e\"], [0.4444444444444444, \"#bd3786\"], [0.5555555555555556, \"#d8576b\"], [0.6666666666666666, \"#ed7953\"], [0.7777777777777778, \"#fb9f3a\"], [0.8888888888888888, \"#fdca26\"], [1.0, \"#f0f921\"]], \"type\": \"histogram2dcontour\"}], \"mesh3d\": [{\"colorbar\": {\"outlinewidth\": 0, \"ticks\": \"\"}, \"type\": \"mesh3d\"}], \"parcoords\": [{\"line\": {\"colorbar\": {\"outlinewidth\": 0, \"ticks\": \"\"}}, \"type\": \"parcoords\"}], \"pie\": [{\"automargin\": true, \"type\": \"pie\"}], \"scatter\": [{\"marker\": {\"colorbar\": {\"outlinewidth\": 0, \"ticks\": \"\"}}, \"type\": \"scatter\"}], \"scatter3d\": [{\"line\": {\"colorbar\": {\"outlinewidth\": 0, \"ticks\": \"\"}}, \"marker\": {\"colorbar\": {\"outlinewidth\": 0, \"ticks\": \"\"}}, \"type\": \"scatter3d\"}], \"scattercarpet\": [{\"marker\": {\"colorbar\": {\"outlinewidth\": 0, \"ticks\": \"\"}}, \"type\": \"scattercarpet\"}], \"scattergeo\": [{\"marker\": {\"colorbar\": {\"outlinewidth\": 0, \"ticks\": \"\"}}, \"type\": \"scattergeo\"}], \"scattergl\": [{\"marker\": {\"colorbar\": {\"outlinewidth\": 0, \"ticks\": \"\"}}, \"type\": \"scattergl\"}], \"scattermapbox\": [{\"marker\": {\"colorbar\": {\"outlinewidth\": 0, \"ticks\": \"\"}}, \"type\": \"scattermapbox\"}], \"scatterpolar\": [{\"marker\": {\"colorbar\": {\"outlinewidth\": 0, \"ticks\": \"\"}}, \"type\": \"scatterpolar\"}], \"scatterpolargl\": [{\"marker\": {\"colorbar\": {\"outlinewidth\": 0, \"ticks\": \"\"}}, \"type\": \"scatterpolargl\"}], \"scatterternary\": [{\"marker\": {\"colorbar\": {\"outlinewidth\": 0, \"ticks\": \"\"}}, \"type\": \"scatterternary\"}], \"surface\": [{\"colorbar\": {\"outlinewidth\": 0, \"ticks\": \"\"}, \"colorscale\": [[0.0, \"#0d0887\"], [0.1111111111111111, \"#46039f\"], [0.2222222222222222, \"#7201a8\"], [0.3333333333333333, \"#9c179e\"], [0.4444444444444444, \"#bd3786\"], [0.5555555555555556, \"#d8576b\"], [0.6666666666666666, \"#ed7953\"], [0.7777777777777778, \"#fb9f3a\"], [0.8888888888888888, \"#fdca26\"], [1.0, \"#f0f921\"]], \"type\": \"surface\"}], \"table\": [{\"cells\": {\"fill\": {\"color\": \"#EBF0F8\"}, \"line\": {\"color\": \"white\"}}, \"header\": {\"fill\": {\"color\": \"#C8D4E3\"}, \"line\": {\"color\": \"white\"}}, \"type\": \"table\"}]}, \"layout\": {\"annotationdefaults\": {\"arrowcolor\": \"#2a3f5f\", \"arrowhead\": 0, \"arrowwidth\": 1}, \"coloraxis\": {\"colorbar\": {\"outlinewidth\": 0, \"ticks\": \"\"}}, \"colorscale\": {\"diverging\": [[0, \"#8e0152\"], [0.1, \"#c51b7d\"], [0.2, \"#de77ae\"], [0.3, \"#f1b6da\"], [0.4, \"#fde0ef\"], [0.5, \"#f7f7f7\"], [0.6, \"#e6f5d0\"], [0.7, \"#b8e186\"], [0.8, \"#7fbc41\"], [0.9, \"#4d9221\"], [1, \"#276419\"]], \"sequential\": [[0.0, \"#0d0887\"], [0.1111111111111111, \"#46039f\"], [0.2222222222222222, \"#7201a8\"], [0.3333333333333333, \"#9c179e\"], [0.4444444444444444, \"#bd3786\"], [0.5555555555555556, \"#d8576b\"], [0.6666666666666666, \"#ed7953\"], [0.7777777777777778, \"#fb9f3a\"], [0.8888888888888888, \"#fdca26\"], [1.0, \"#f0f921\"]], \"sequentialminus\": [[0.0, \"#0d0887\"], [0.1111111111111111, \"#46039f\"], [0.2222222222222222, \"#7201a8\"], [0.3333333333333333, \"#9c179e\"], [0.4444444444444444, \"#bd3786\"], [0.5555555555555556, \"#d8576b\"], [0.6666666666666666, \"#ed7953\"], [0.7777777777777778, \"#fb9f3a\"], [0.8888888888888888, \"#fdca26\"], [1.0, \"#f0f921\"]]}, \"colorway\": [\"#636efa\", \"#EF553B\", \"#00cc96\", \"#ab63fa\", \"#FFA15A\", \"#19d3f3\", \"#FF6692\", \"#B6E880\", \"#FF97FF\", \"#FECB52\"], \"font\": {\"color\": \"#2a3f5f\"}, \"geo\": {\"bgcolor\": \"white\", \"lakecolor\": \"white\", \"landcolor\": \"#E5ECF6\", \"showlakes\": true, \"showland\": true, \"subunitcolor\": \"white\"}, \"hoverlabel\": {\"align\": \"left\"}, \"hovermode\": \"closest\", \"mapbox\": {\"style\": \"light\"}, \"paper_bgcolor\": \"white\", \"plot_bgcolor\": \"#E5ECF6\", \"polar\": {\"angularaxis\": {\"gridcolor\": \"white\", \"linecolor\": \"white\", \"ticks\": \"\"}, \"bgcolor\": \"#E5ECF6\", \"radialaxis\": {\"gridcolor\": \"white\", \"linecolor\": \"white\", \"ticks\": \"\"}}, \"scene\": {\"xaxis\": {\"backgroundcolor\": \"#E5ECF6\", \"gridcolor\": \"white\", \"gridwidth\": 2, \"linecolor\": \"white\", \"showbackground\": true, \"ticks\": \"\", \"zerolinecolor\": \"white\"}, \"yaxis\": {\"backgroundcolor\": \"#E5ECF6\", \"gridcolor\": \"white\", \"gridwidth\": 2, \"linecolor\": \"white\", \"showbackground\": true, \"ticks\": \"\", \"zerolinecolor\": \"white\"}, \"zaxis\": {\"backgroundcolor\": \"#E5ECF6\", \"gridcolor\": \"white\", \"gridwidth\": 2, \"linecolor\": \"white\", \"showbackground\": true, \"ticks\": \"\", \"zerolinecolor\": \"white\"}}, \"shapedefaults\": {\"line\": {\"color\": \"#2a3f5f\"}}, \"ternary\": {\"aaxis\": {\"gridcolor\": \"white\", \"linecolor\": \"white\", \"ticks\": \"\"}, \"baxis\": {\"gridcolor\": \"white\", \"linecolor\": \"white\", \"ticks\": \"\"}, \"bgcolor\": \"#E5ECF6\", \"caxis\": {\"gridcolor\": \"white\", \"linecolor\": \"white\", \"ticks\": \"\"}}, \"title\": {\"x\": 0.05}, \"xaxis\": {\"automargin\": true, \"gridcolor\": \"white\", \"linecolor\": \"white\", \"ticks\": \"\", \"title\": {\"standoff\": 15}, \"zerolinecolor\": \"white\", \"zerolinewidth\": 2}, \"yaxis\": {\"automargin\": true, \"gridcolor\": \"white\", \"linecolor\": \"white\", \"ticks\": \"\", \"title\": {\"standoff\": 15}, \"zerolinecolor\": \"white\", \"zerolinewidth\": 2}}}, \"title\": {\"text\": \"Waiting periods for each Studentenwerk M\\u00fcnchen dorm (2016-present)\"}, \"xaxis\": {\"title\": {\"text\": \"Date\"}}, \"yaxis\": {\"title\": {\"text\": \"Waiting period (semesters)\"}}},\n",
       "                        {\"responsive\": true}\n",
       "                    ).then(function(){\n",
       "                            \n",
       "var gd = document.getElementById('aa10835e-4105-4297-9226-e328cd5ba763');\n",
       "var x = new MutationObserver(function (mutations, observer) {{\n",
       "        var display = window.getComputedStyle(gd).display;\n",
       "        if (!display || display === 'none') {{\n",
       "            console.log([gd, 'removed!']);\n",
       "            Plotly.purge(gd);\n",
       "            observer.disconnect();\n",
       "        }}\n",
       "}});\n",
       "\n",
       "// Listen for the removal of the full notebook cells\n",
       "var notebookContainer = gd.closest('#notebook-container');\n",
       "if (notebookContainer) {{\n",
       "    x.observe(notebookContainer, {childList: true});\n",
       "}}\n",
       "\n",
       "// Listen for the clearing of the current output cell\n",
       "var outputEl = gd.closest('.output');\n",
       "if (outputEl) {{\n",
       "    x.observe(outputEl, {childList: true});\n",
       "}}\n",
       "\n",
       "                        })\n",
       "                };\n",
       "                });\n",
       "            </script>\n",
       "        </div>"
      ]
     },
     "metadata": {},
     "output_type": "display_data"
    }
   ],
   "source": [
    "fig = go.Figure()\n",
    "\n",
    "for dorm in dorm_dict:\n",
    "    fig.add_trace(go.Scatter(x=x, y=dorm_dict[dorm], name=dorm.strip()))\n",
    "    \n",
    "fig.update_layout(title=\"Waiting periods for each Studentenwerk München dorm (2016-present)\",\n",
    "                 xaxis_title=\"Date\",\n",
    "                 yaxis_title=\"Waiting period (semesters)\")\n",
    "\n",
    "fig.show()\n",
    "fig.write_html(\"index.html\")"
   ]
  },
  {
   "cell_type": "markdown",
   "metadata": {},
   "source": [
    "WS17/18 had a particularly large influx of students, leading to higher waiting times."
   ]
  },
  {
   "cell_type": "code",
   "execution_count": null,
   "metadata": {},
   "outputs": [],
   "source": []
  }
 ],
 "metadata": {
  "kernelspec": {
   "display_name": "Python 3",
   "language": "python",
   "name": "python3"
  },
  "language_info": {
   "codemirror_mode": {
    "name": "ipython",
    "version": 3
   },
   "file_extension": ".py",
   "mimetype": "text/x-python",
   "name": "python",
   "nbconvert_exporter": "python",
   "pygments_lexer": "ipython3",
   "version": "3.7.7"
  }
 },
 "nbformat": 4,
 "nbformat_minor": 4
}
